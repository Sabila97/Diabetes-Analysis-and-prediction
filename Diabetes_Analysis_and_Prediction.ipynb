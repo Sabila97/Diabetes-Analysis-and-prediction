{
  "nbformat": 4,
  "nbformat_minor": 0,
  "metadata": {
    "colab": {
      "name": "Diabetes Analysis and Prediction.ipynb",
      "provenance": [],
      "collapsed_sections": [],
      "include_colab_link": true
    },
    "kernelspec": {
      "name": "python3",
      "display_name": "Python 3"
    }
  },
  "cells": [
    {
      "cell_type": "markdown",
      "metadata": {
        "id": "view-in-github",
        "colab_type": "text"
      },
      "source": [
        "<a href=\"https://colab.research.google.com/github/Sabila97/Diabetes-Analysis-and-prediction/blob/main/Diabetes_Analysis_and_Prediction.ipynb\" target=\"_parent\"><img src=\"https://colab.research.google.com/assets/colab-badge.svg\" alt=\"Open In Colab\"/></a>"
      ]
    },
    {
      "cell_type": "code",
      "metadata": {
        "id": "HifY5oHexPZQ",
        "colab": {
          "base_uri": "https://localhost:8080/",
          "height": 34
        },
        "outputId": "74494ab1-bb26-44b5-fb8f-e72638f88395"
      },
      "source": [
        "from google.colab import drive\n",
        "drive.mount('/content/gdrive')"
      ],
      "execution_count": null,
      "outputs": [
        {
          "output_type": "stream",
          "text": [
            "Mounted at /content/gdrive\n"
          ],
          "name": "stdout"
        }
      ]
    },
    {
      "cell_type": "code",
      "metadata": {
        "id": "jEND8TWrF-Kg"
      },
      "source": [
        "import pandas as pd\n",
        "import numpy as np\n",
        "import sklearn"
      ],
      "execution_count": null,
      "outputs": []
    },
    {
      "cell_type": "code",
      "metadata": {
        "id": "hsCTFAoIWawk",
        "colab": {
          "base_uri": "https://localhost:8080/",
          "height": 34
        },
        "outputId": "2e7bc28e-b4c4-4a04-f254-bd6bfb574a62"
      },
      "source": [
        "from google.colab import drive\n",
        "drive.mount('/content/drive')"
      ],
      "execution_count": null,
      "outputs": [
        {
          "output_type": "stream",
          "text": [
            "Mounted at /content/drive\n"
          ],
          "name": "stdout"
        }
      ]
    },
    {
      "cell_type": "code",
      "metadata": {
        "id": "zC525UizG4-4",
        "colab": {
          "base_uri": "https://localhost:8080/",
          "height": 34
        },
        "outputId": "50d4e69a-d160-407a-d570-766d5da51526"
      },
      "source": [
        "diabetes=pd.read_csv('/content/drive/My Drive/diabetes_data_upload.csv')\n",
        "diabetes.head()\n",
        "diabetes.shape"
      ],
      "execution_count": null,
      "outputs": [
        {
          "output_type": "execute_result",
          "data": {
            "text/plain": [
              "(520, 17)"
            ]
          },
          "metadata": {
            "tags": []
          },
          "execution_count": 4
        }
      ]
    },
    {
      "cell_type": "code",
      "metadata": {
        "id": "M1gwpyDgMrGy",
        "colab": {
          "base_uri": "https://localhost:8080/",
          "height": 258
        },
        "outputId": "2bb36fe0-19b6-4305-8235-39c7bee5e830"
      },
      "source": [
        "diabetes.head()"
      ],
      "execution_count": null,
      "outputs": [
        {
          "output_type": "execute_result",
          "data": {
            "text/html": [
              "<div>\n",
              "<style scoped>\n",
              "    .dataframe tbody tr th:only-of-type {\n",
              "        vertical-align: middle;\n",
              "    }\n",
              "\n",
              "    .dataframe tbody tr th {\n",
              "        vertical-align: top;\n",
              "    }\n",
              "\n",
              "    .dataframe thead th {\n",
              "        text-align: right;\n",
              "    }\n",
              "</style>\n",
              "<table border=\"1\" class=\"dataframe\">\n",
              "  <thead>\n",
              "    <tr style=\"text-align: right;\">\n",
              "      <th></th>\n",
              "      <th>Age</th>\n",
              "      <th>Gender</th>\n",
              "      <th>Polyuria</th>\n",
              "      <th>Polydipsia</th>\n",
              "      <th>sudden weight loss</th>\n",
              "      <th>weakness</th>\n",
              "      <th>Polyphagia</th>\n",
              "      <th>Genital thrush</th>\n",
              "      <th>visual blurring</th>\n",
              "      <th>Itching</th>\n",
              "      <th>Irritability</th>\n",
              "      <th>delayed healing</th>\n",
              "      <th>partial paresis</th>\n",
              "      <th>muscle stiffness</th>\n",
              "      <th>Alopecia</th>\n",
              "      <th>Obesity</th>\n",
              "      <th>class</th>\n",
              "    </tr>\n",
              "  </thead>\n",
              "  <tbody>\n",
              "    <tr>\n",
              "      <th>0</th>\n",
              "      <td>40</td>\n",
              "      <td>Male</td>\n",
              "      <td>No</td>\n",
              "      <td>Yes</td>\n",
              "      <td>No</td>\n",
              "      <td>Yes</td>\n",
              "      <td>No</td>\n",
              "      <td>No</td>\n",
              "      <td>No</td>\n",
              "      <td>Yes</td>\n",
              "      <td>No</td>\n",
              "      <td>Yes</td>\n",
              "      <td>No</td>\n",
              "      <td>Yes</td>\n",
              "      <td>Yes</td>\n",
              "      <td>Yes</td>\n",
              "      <td>Positive</td>\n",
              "    </tr>\n",
              "    <tr>\n",
              "      <th>1</th>\n",
              "      <td>58</td>\n",
              "      <td>Male</td>\n",
              "      <td>No</td>\n",
              "      <td>No</td>\n",
              "      <td>No</td>\n",
              "      <td>Yes</td>\n",
              "      <td>No</td>\n",
              "      <td>No</td>\n",
              "      <td>Yes</td>\n",
              "      <td>No</td>\n",
              "      <td>No</td>\n",
              "      <td>No</td>\n",
              "      <td>Yes</td>\n",
              "      <td>No</td>\n",
              "      <td>Yes</td>\n",
              "      <td>No</td>\n",
              "      <td>Positive</td>\n",
              "    </tr>\n",
              "    <tr>\n",
              "      <th>2</th>\n",
              "      <td>41</td>\n",
              "      <td>Male</td>\n",
              "      <td>Yes</td>\n",
              "      <td>No</td>\n",
              "      <td>No</td>\n",
              "      <td>Yes</td>\n",
              "      <td>Yes</td>\n",
              "      <td>No</td>\n",
              "      <td>No</td>\n",
              "      <td>Yes</td>\n",
              "      <td>No</td>\n",
              "      <td>Yes</td>\n",
              "      <td>No</td>\n",
              "      <td>Yes</td>\n",
              "      <td>Yes</td>\n",
              "      <td>No</td>\n",
              "      <td>Positive</td>\n",
              "    </tr>\n",
              "    <tr>\n",
              "      <th>3</th>\n",
              "      <td>45</td>\n",
              "      <td>Male</td>\n",
              "      <td>No</td>\n",
              "      <td>No</td>\n",
              "      <td>Yes</td>\n",
              "      <td>Yes</td>\n",
              "      <td>Yes</td>\n",
              "      <td>Yes</td>\n",
              "      <td>No</td>\n",
              "      <td>Yes</td>\n",
              "      <td>No</td>\n",
              "      <td>Yes</td>\n",
              "      <td>No</td>\n",
              "      <td>No</td>\n",
              "      <td>No</td>\n",
              "      <td>No</td>\n",
              "      <td>Positive</td>\n",
              "    </tr>\n",
              "    <tr>\n",
              "      <th>4</th>\n",
              "      <td>60</td>\n",
              "      <td>Male</td>\n",
              "      <td>Yes</td>\n",
              "      <td>Yes</td>\n",
              "      <td>Yes</td>\n",
              "      <td>Yes</td>\n",
              "      <td>Yes</td>\n",
              "      <td>No</td>\n",
              "      <td>Yes</td>\n",
              "      <td>Yes</td>\n",
              "      <td>Yes</td>\n",
              "      <td>Yes</td>\n",
              "      <td>Yes</td>\n",
              "      <td>Yes</td>\n",
              "      <td>Yes</td>\n",
              "      <td>Yes</td>\n",
              "      <td>Positive</td>\n",
              "    </tr>\n",
              "  </tbody>\n",
              "</table>\n",
              "</div>"
            ],
            "text/plain": [
              "   Age Gender Polyuria Polydipsia  ... muscle stiffness Alopecia Obesity     class\n",
              "0   40   Male       No        Yes  ...              Yes      Yes     Yes  Positive\n",
              "1   58   Male       No         No  ...               No      Yes      No  Positive\n",
              "2   41   Male      Yes         No  ...              Yes      Yes      No  Positive\n",
              "3   45   Male       No         No  ...               No       No      No  Positive\n",
              "4   60   Male      Yes        Yes  ...              Yes      Yes     Yes  Positive\n",
              "\n",
              "[5 rows x 17 columns]"
            ]
          },
          "metadata": {
            "tags": []
          },
          "execution_count": 5
        }
      ]
    },
    {
      "cell_type": "code",
      "metadata": {
        "id": "858rhTpVNDDI",
        "colab": {
          "base_uri": "https://localhost:8080/",
          "height": 323
        },
        "outputId": "f50b601a-bd42-414c-99c6-546580465de2"
      },
      "source": [
        "diabetes.isnull().sum()"
      ],
      "execution_count": null,
      "outputs": [
        {
          "output_type": "execute_result",
          "data": {
            "text/plain": [
              "Age                   0\n",
              "Gender                0\n",
              "Polyuria              0\n",
              "Polydipsia            0\n",
              "sudden weight loss    0\n",
              "weakness              0\n",
              "Polyphagia            0\n",
              "Genital thrush        0\n",
              "visual blurring       0\n",
              "Itching               0\n",
              "Irritability          0\n",
              "delayed healing       0\n",
              "partial paresis       0\n",
              "muscle stiffness      0\n",
              "Alopecia              0\n",
              "Obesity               0\n",
              "class                 0\n",
              "dtype: int64"
            ]
          },
          "metadata": {
            "tags": []
          },
          "execution_count": 6
        }
      ]
    },
    {
      "cell_type": "code",
      "metadata": {
        "id": "8LhNeXfnH4Z3",
        "colab": {
          "base_uri": "https://localhost:8080/",
          "height": 425
        },
        "outputId": "b7b71f4c-2cd0-4db4-c773-ee7568a14de7"
      },
      "source": [
        "diabetes.info()"
      ],
      "execution_count": null,
      "outputs": [
        {
          "output_type": "stream",
          "text": [
            "<class 'pandas.core.frame.DataFrame'>\n",
            "RangeIndex: 520 entries, 0 to 519\n",
            "Data columns (total 17 columns):\n",
            " #   Column              Non-Null Count  Dtype \n",
            "---  ------              --------------  ----- \n",
            " 0   Age                 520 non-null    int64 \n",
            " 1   Gender              520 non-null    object\n",
            " 2   Polyuria            520 non-null    object\n",
            " 3   Polydipsia          520 non-null    object\n",
            " 4   sudden weight loss  520 non-null    object\n",
            " 5   weakness            520 non-null    object\n",
            " 6   Polyphagia          520 non-null    object\n",
            " 7   Genital thrush      520 non-null    object\n",
            " 8   visual blurring     520 non-null    object\n",
            " 9   Itching             520 non-null    object\n",
            " 10  Irritability        520 non-null    object\n",
            " 11  delayed healing     520 non-null    object\n",
            " 12  partial paresis     520 non-null    object\n",
            " 13  muscle stiffness    520 non-null    object\n",
            " 14  Alopecia            520 non-null    object\n",
            " 15  Obesity             520 non-null    object\n",
            " 16  class               520 non-null    object\n",
            "dtypes: int64(1), object(16)\n",
            "memory usage: 69.2+ KB\n"
          ],
          "name": "stdout"
        }
      ]
    },
    {
      "cell_type": "code",
      "metadata": {
        "id": "4r-vRgqYPgbE",
        "colab": {
          "base_uri": "https://localhost:8080/",
          "height": 119
        },
        "outputId": "e2e8af04-650e-4ebe-c725-ef6a79dbf0cb"
      },
      "source": [
        "from sklearn.preprocessing import LabelEncoder\n",
        "enc=LabelEncoder()\n",
        "diabetes['Gender']=enc.fit_transform(diabetes['Gender'])\n",
        "print(diabetes['Gender'].head())"
      ],
      "execution_count": null,
      "outputs": [
        {
          "output_type": "stream",
          "text": [
            "0    1\n",
            "1    1\n",
            "2    1\n",
            "3    1\n",
            "4    1\n",
            "Name: Gender, dtype: int64\n"
          ],
          "name": "stdout"
        }
      ]
    },
    {
      "cell_type": "code",
      "metadata": {
        "id": "iV6XY6fhT11J",
        "colab": {
          "base_uri": "https://localhost:8080/",
          "height": 119
        },
        "outputId": "5e3a5534-a3b4-4d44-e658-dd7bb3848cfe"
      },
      "source": [
        "\n",
        "diabetes['Polyuria']=enc.fit_transform(diabetes['Polyuria'])\n",
        "print(diabetes['Polyuria'].head())"
      ],
      "execution_count": null,
      "outputs": [
        {
          "output_type": "stream",
          "text": [
            "0    0\n",
            "1    0\n",
            "2    1\n",
            "3    0\n",
            "4    1\n",
            "Name: Polyuria, dtype: int64\n"
          ],
          "name": "stdout"
        }
      ]
    },
    {
      "cell_type": "code",
      "metadata": {
        "id": "rtGpfktwVD-g",
        "colab": {
          "base_uri": "https://localhost:8080/",
          "height": 119
        },
        "outputId": "aadd9feb-9b90-4219-9fd5-143e4a3be989"
      },
      "source": [
        "diabetes['Polydipsia']=enc.fit_transform(diabetes['Polydipsia'])\n",
        "print(diabetes['Polydipsia'].head())"
      ],
      "execution_count": null,
      "outputs": [
        {
          "output_type": "stream",
          "text": [
            "0    1\n",
            "1    0\n",
            "2    0\n",
            "3    0\n",
            "4    1\n",
            "Name: Polydipsia, dtype: int64\n"
          ],
          "name": "stdout"
        }
      ]
    },
    {
      "cell_type": "code",
      "metadata": {
        "id": "yg1ITi6pVLZX",
        "colab": {
          "base_uri": "https://localhost:8080/",
          "height": 119
        },
        "outputId": "9dc15447-4ea7-4d01-ef73-5a2727644183"
      },
      "source": [
        "diabetes['sudden weight loss']=enc.fit_transform(diabetes['sudden weight loss'])\n",
        "print(diabetes['sudden weight loss'].head())"
      ],
      "execution_count": null,
      "outputs": [
        {
          "output_type": "stream",
          "text": [
            "0    0\n",
            "1    0\n",
            "2    0\n",
            "3    1\n",
            "4    1\n",
            "Name: sudden weight loss, dtype: int64\n"
          ],
          "name": "stdout"
        }
      ]
    },
    {
      "cell_type": "code",
      "metadata": {
        "id": "NhGQjyOZViDQ",
        "colab": {
          "base_uri": "https://localhost:8080/",
          "height": 119
        },
        "outputId": "daf804cc-482f-49c0-d012-d47e19276ec3"
      },
      "source": [
        "diabetes['weakness']=enc.fit_transform(diabetes['weakness'])\n",
        "print(diabetes['weakness'].head())"
      ],
      "execution_count": null,
      "outputs": [
        {
          "output_type": "stream",
          "text": [
            "0    1\n",
            "1    1\n",
            "2    1\n",
            "3    1\n",
            "4    1\n",
            "Name: weakness, dtype: int64\n"
          ],
          "name": "stdout"
        }
      ]
    },
    {
      "cell_type": "code",
      "metadata": {
        "id": "Q1tYd5jMVtL7",
        "colab": {
          "base_uri": "https://localhost:8080/",
          "height": 119
        },
        "outputId": "1c5c2d4b-a075-44f6-9914-70c052064c6d"
      },
      "source": [
        "diabetes['Polyphagia']=enc.fit_transform(diabetes['Polyphagia'])\n",
        "print(diabetes['Polyphagia'].head())"
      ],
      "execution_count": null,
      "outputs": [
        {
          "output_type": "stream",
          "text": [
            "0    0\n",
            "1    0\n",
            "2    1\n",
            "3    1\n",
            "4    1\n",
            "Name: Polyphagia, dtype: int64\n"
          ],
          "name": "stdout"
        }
      ]
    },
    {
      "cell_type": "code",
      "metadata": {
        "id": "YP4WLoZIV2uG",
        "colab": {
          "base_uri": "https://localhost:8080/",
          "height": 119
        },
        "outputId": "b67bde4a-19c3-4696-c5f9-4a4aed2d6667"
      },
      "source": [
        "diabetes['Genital thrush']=enc.fit_transform(diabetes['Genital thrush'])\n",
        "print(diabetes['Genital thrush'].head())"
      ],
      "execution_count": null,
      "outputs": [
        {
          "output_type": "stream",
          "text": [
            "0    0\n",
            "1    0\n",
            "2    0\n",
            "3    1\n",
            "4    0\n",
            "Name: Genital thrush, dtype: int64\n"
          ],
          "name": "stdout"
        }
      ]
    },
    {
      "cell_type": "code",
      "metadata": {
        "id": "MJIvbfPqV-M9",
        "colab": {
          "base_uri": "https://localhost:8080/",
          "height": 119
        },
        "outputId": "959042a8-ee27-48fb-f959-e96355f6b890"
      },
      "source": [
        "diabetes['visual blurring']=enc.fit_transform(diabetes['visual blurring'])\n",
        "print(diabetes['visual blurring'].head())"
      ],
      "execution_count": null,
      "outputs": [
        {
          "output_type": "stream",
          "text": [
            "0    0\n",
            "1    1\n",
            "2    0\n",
            "3    0\n",
            "4    1\n",
            "Name: visual blurring, dtype: int64\n"
          ],
          "name": "stdout"
        }
      ]
    },
    {
      "cell_type": "code",
      "metadata": {
        "id": "ID683l28WHGr",
        "colab": {
          "base_uri": "https://localhost:8080/",
          "height": 119
        },
        "outputId": "e4228380-1b43-454e-81b6-9348f2c218b9"
      },
      "source": [
        "diabetes['Itching']=enc.fit_transform(diabetes['Itching'])\n",
        "print(diabetes['Itching'].head())"
      ],
      "execution_count": null,
      "outputs": [
        {
          "output_type": "stream",
          "text": [
            "0    1\n",
            "1    0\n",
            "2    1\n",
            "3    1\n",
            "4    1\n",
            "Name: Itching, dtype: int64\n"
          ],
          "name": "stdout"
        }
      ]
    },
    {
      "cell_type": "code",
      "metadata": {
        "id": "QMu-ZFL6WStl",
        "colab": {
          "base_uri": "https://localhost:8080/",
          "height": 119
        },
        "outputId": "e964e752-24d3-40e1-ec42-8be368033c7a"
      },
      "source": [
        "diabetes['Irritability']=enc.fit_transform(diabetes['Irritability'])\n",
        "print(diabetes['Irritability'].head())"
      ],
      "execution_count": null,
      "outputs": [
        {
          "output_type": "stream",
          "text": [
            "0    0\n",
            "1    0\n",
            "2    0\n",
            "3    0\n",
            "4    1\n",
            "Name: Irritability, dtype: int64\n"
          ],
          "name": "stdout"
        }
      ]
    },
    {
      "cell_type": "code",
      "metadata": {
        "id": "EZfR5OwuWcKX",
        "colab": {
          "base_uri": "https://localhost:8080/",
          "height": 119
        },
        "outputId": "2842afb4-ce8a-43d7-b8d3-34c60d8bebcb"
      },
      "source": [
        "diabetes['delayed healing']=enc.fit_transform(diabetes['delayed healing'])\n",
        "print(diabetes['delayed healing'].head())"
      ],
      "execution_count": null,
      "outputs": [
        {
          "output_type": "stream",
          "text": [
            "0    1\n",
            "1    0\n",
            "2    1\n",
            "3    1\n",
            "4    1\n",
            "Name: delayed healing, dtype: int64\n"
          ],
          "name": "stdout"
        }
      ]
    },
    {
      "cell_type": "code",
      "metadata": {
        "id": "u44qzhjuWkCJ",
        "colab": {
          "base_uri": "https://localhost:8080/",
          "height": 119
        },
        "outputId": "4ddf1c7d-5506-4f4c-c12b-02a07ad1a2cc"
      },
      "source": [
        "diabetes['partial paresis']=enc.fit_transform(diabetes['partial paresis'])\n",
        "print(diabetes['partial paresis'].head())"
      ],
      "execution_count": null,
      "outputs": [
        {
          "output_type": "stream",
          "text": [
            "0    0\n",
            "1    1\n",
            "2    0\n",
            "3    0\n",
            "4    1\n",
            "Name: partial paresis, dtype: int64\n"
          ],
          "name": "stdout"
        }
      ]
    },
    {
      "cell_type": "code",
      "metadata": {
        "id": "phh7m_jsWwia",
        "colab": {
          "base_uri": "https://localhost:8080/",
          "height": 119
        },
        "outputId": "6fb06590-8d5c-4832-8da6-dc14b269827e"
      },
      "source": [
        "diabetes['muscle stiffness']=enc.fit_transform(diabetes['muscle stiffness'])\n",
        "print(diabetes['muscle stiffness'].head())"
      ],
      "execution_count": null,
      "outputs": [
        {
          "output_type": "stream",
          "text": [
            "0    1\n",
            "1    0\n",
            "2    1\n",
            "3    0\n",
            "4    1\n",
            "Name: muscle stiffness, dtype: int64\n"
          ],
          "name": "stdout"
        }
      ]
    },
    {
      "cell_type": "code",
      "metadata": {
        "id": "4X1MH2-yW4Sz",
        "colab": {
          "base_uri": "https://localhost:8080/",
          "height": 119
        },
        "outputId": "dcc23cf4-9da8-48a4-cbd2-1cc347c73688"
      },
      "source": [
        "diabetes['Alopecia']=enc.fit_transform(diabetes['Alopecia'])\n",
        "print(diabetes['Alopecia'].head())"
      ],
      "execution_count": null,
      "outputs": [
        {
          "output_type": "stream",
          "text": [
            "0    1\n",
            "1    1\n",
            "2    1\n",
            "3    0\n",
            "4    1\n",
            "Name: Alopecia, dtype: int64\n"
          ],
          "name": "stdout"
        }
      ]
    },
    {
      "cell_type": "code",
      "metadata": {
        "id": "ygGsRuhGXCH0",
        "colab": {
          "base_uri": "https://localhost:8080/",
          "height": 119
        },
        "outputId": "25452db1-9c7d-42d7-9dae-1f1ef2938746"
      },
      "source": [
        "diabetes['Obesity']=enc.fit_transform(diabetes['Obesity'])\n",
        "print(diabetes['Obesity'].head())"
      ],
      "execution_count": null,
      "outputs": [
        {
          "output_type": "stream",
          "text": [
            "0    1\n",
            "1    0\n",
            "2    0\n",
            "3    0\n",
            "4    1\n",
            "Name: Obesity, dtype: int64\n"
          ],
          "name": "stdout"
        }
      ]
    },
    {
      "cell_type": "code",
      "metadata": {
        "id": "LhLrPBglXJX6",
        "colab": {
          "base_uri": "https://localhost:8080/",
          "height": 119
        },
        "outputId": "b79b4c81-097a-4ccc-8018-399dcb4df446"
      },
      "source": [
        "diabetes['class']=enc.fit_transform(diabetes['class'])\n",
        "print(diabetes['class'].head())"
      ],
      "execution_count": null,
      "outputs": [
        {
          "output_type": "stream",
          "text": [
            "0    1\n",
            "1    1\n",
            "2    1\n",
            "3    1\n",
            "4    1\n",
            "Name: class, dtype: int64\n"
          ],
          "name": "stdout"
        }
      ]
    },
    {
      "cell_type": "code",
      "metadata": {
        "id": "yM4dM-10XPAm",
        "colab": {
          "base_uri": "https://localhost:8080/",
          "height": 258
        },
        "outputId": "b7c5d6b0-9897-4555-a10e-af6d0106f520"
      },
      "source": [
        "diabetes.head()"
      ],
      "execution_count": null,
      "outputs": [
        {
          "output_type": "execute_result",
          "data": {
            "text/html": [
              "<div>\n",
              "<style scoped>\n",
              "    .dataframe tbody tr th:only-of-type {\n",
              "        vertical-align: middle;\n",
              "    }\n",
              "\n",
              "    .dataframe tbody tr th {\n",
              "        vertical-align: top;\n",
              "    }\n",
              "\n",
              "    .dataframe thead th {\n",
              "        text-align: right;\n",
              "    }\n",
              "</style>\n",
              "<table border=\"1\" class=\"dataframe\">\n",
              "  <thead>\n",
              "    <tr style=\"text-align: right;\">\n",
              "      <th></th>\n",
              "      <th>Age</th>\n",
              "      <th>Gender</th>\n",
              "      <th>Polyuria</th>\n",
              "      <th>Polydipsia</th>\n",
              "      <th>sudden weight loss</th>\n",
              "      <th>weakness</th>\n",
              "      <th>Polyphagia</th>\n",
              "      <th>Genital thrush</th>\n",
              "      <th>visual blurring</th>\n",
              "      <th>Itching</th>\n",
              "      <th>Irritability</th>\n",
              "      <th>delayed healing</th>\n",
              "      <th>partial paresis</th>\n",
              "      <th>muscle stiffness</th>\n",
              "      <th>Alopecia</th>\n",
              "      <th>Obesity</th>\n",
              "      <th>class</th>\n",
              "    </tr>\n",
              "  </thead>\n",
              "  <tbody>\n",
              "    <tr>\n",
              "      <th>0</th>\n",
              "      <td>40</td>\n",
              "      <td>1</td>\n",
              "      <td>0</td>\n",
              "      <td>1</td>\n",
              "      <td>0</td>\n",
              "      <td>1</td>\n",
              "      <td>0</td>\n",
              "      <td>0</td>\n",
              "      <td>0</td>\n",
              "      <td>1</td>\n",
              "      <td>0</td>\n",
              "      <td>1</td>\n",
              "      <td>0</td>\n",
              "      <td>1</td>\n",
              "      <td>1</td>\n",
              "      <td>1</td>\n",
              "      <td>1</td>\n",
              "    </tr>\n",
              "    <tr>\n",
              "      <th>1</th>\n",
              "      <td>58</td>\n",
              "      <td>1</td>\n",
              "      <td>0</td>\n",
              "      <td>0</td>\n",
              "      <td>0</td>\n",
              "      <td>1</td>\n",
              "      <td>0</td>\n",
              "      <td>0</td>\n",
              "      <td>1</td>\n",
              "      <td>0</td>\n",
              "      <td>0</td>\n",
              "      <td>0</td>\n",
              "      <td>1</td>\n",
              "      <td>0</td>\n",
              "      <td>1</td>\n",
              "      <td>0</td>\n",
              "      <td>1</td>\n",
              "    </tr>\n",
              "    <tr>\n",
              "      <th>2</th>\n",
              "      <td>41</td>\n",
              "      <td>1</td>\n",
              "      <td>1</td>\n",
              "      <td>0</td>\n",
              "      <td>0</td>\n",
              "      <td>1</td>\n",
              "      <td>1</td>\n",
              "      <td>0</td>\n",
              "      <td>0</td>\n",
              "      <td>1</td>\n",
              "      <td>0</td>\n",
              "      <td>1</td>\n",
              "      <td>0</td>\n",
              "      <td>1</td>\n",
              "      <td>1</td>\n",
              "      <td>0</td>\n",
              "      <td>1</td>\n",
              "    </tr>\n",
              "    <tr>\n",
              "      <th>3</th>\n",
              "      <td>45</td>\n",
              "      <td>1</td>\n",
              "      <td>0</td>\n",
              "      <td>0</td>\n",
              "      <td>1</td>\n",
              "      <td>1</td>\n",
              "      <td>1</td>\n",
              "      <td>1</td>\n",
              "      <td>0</td>\n",
              "      <td>1</td>\n",
              "      <td>0</td>\n",
              "      <td>1</td>\n",
              "      <td>0</td>\n",
              "      <td>0</td>\n",
              "      <td>0</td>\n",
              "      <td>0</td>\n",
              "      <td>1</td>\n",
              "    </tr>\n",
              "    <tr>\n",
              "      <th>4</th>\n",
              "      <td>60</td>\n",
              "      <td>1</td>\n",
              "      <td>1</td>\n",
              "      <td>1</td>\n",
              "      <td>1</td>\n",
              "      <td>1</td>\n",
              "      <td>1</td>\n",
              "      <td>0</td>\n",
              "      <td>1</td>\n",
              "      <td>1</td>\n",
              "      <td>1</td>\n",
              "      <td>1</td>\n",
              "      <td>1</td>\n",
              "      <td>1</td>\n",
              "      <td>1</td>\n",
              "      <td>1</td>\n",
              "      <td>1</td>\n",
              "    </tr>\n",
              "  </tbody>\n",
              "</table>\n",
              "</div>"
            ],
            "text/plain": [
              "   Age  Gender  Polyuria  ...  Alopecia  Obesity  class\n",
              "0   40       1         0  ...         1        1      1\n",
              "1   58       1         0  ...         1        0      1\n",
              "2   41       1         1  ...         1        0      1\n",
              "3   45       1         0  ...         0        0      1\n",
              "4   60       1         1  ...         1        1      1\n",
              "\n",
              "[5 rows x 17 columns]"
            ]
          },
          "metadata": {
            "tags": []
          },
          "execution_count": 24
        }
      ]
    },
    {
      "cell_type": "code",
      "metadata": {
        "id": "0cKylOKmXlKY",
        "colab": {
          "base_uri": "https://localhost:8080/",
          "height": 119
        },
        "outputId": "ede51f77-b9e0-4c63-da96-39f3cc6120f8"
      },
      "source": [
        "diabetes['Gender']=enc.fit_transform(diabetes['Gender'])\n",
        "print(diabetes['Gender'].head())"
      ],
      "execution_count": null,
      "outputs": [
        {
          "output_type": "stream",
          "text": [
            "0    1\n",
            "1    1\n",
            "2    1\n",
            "3    1\n",
            "4    1\n",
            "Name: Gender, dtype: int64\n"
          ],
          "name": "stdout"
        }
      ]
    },
    {
      "cell_type": "code",
      "metadata": {
        "id": "N8VTrTg2Xv77",
        "colab": {
          "base_uri": "https://localhost:8080/",
          "height": 258
        },
        "outputId": "6f6ad883-e5bf-46bb-dfe9-c95abecb3e24"
      },
      "source": [
        "diabetes.head()"
      ],
      "execution_count": null,
      "outputs": [
        {
          "output_type": "execute_result",
          "data": {
            "text/html": [
              "<div>\n",
              "<style scoped>\n",
              "    .dataframe tbody tr th:only-of-type {\n",
              "        vertical-align: middle;\n",
              "    }\n",
              "\n",
              "    .dataframe tbody tr th {\n",
              "        vertical-align: top;\n",
              "    }\n",
              "\n",
              "    .dataframe thead th {\n",
              "        text-align: right;\n",
              "    }\n",
              "</style>\n",
              "<table border=\"1\" class=\"dataframe\">\n",
              "  <thead>\n",
              "    <tr style=\"text-align: right;\">\n",
              "      <th></th>\n",
              "      <th>Age</th>\n",
              "      <th>Gender</th>\n",
              "      <th>Polyuria</th>\n",
              "      <th>Polydipsia</th>\n",
              "      <th>sudden weight loss</th>\n",
              "      <th>weakness</th>\n",
              "      <th>Polyphagia</th>\n",
              "      <th>Genital thrush</th>\n",
              "      <th>visual blurring</th>\n",
              "      <th>Itching</th>\n",
              "      <th>Irritability</th>\n",
              "      <th>delayed healing</th>\n",
              "      <th>partial paresis</th>\n",
              "      <th>muscle stiffness</th>\n",
              "      <th>Alopecia</th>\n",
              "      <th>Obesity</th>\n",
              "      <th>class</th>\n",
              "    </tr>\n",
              "  </thead>\n",
              "  <tbody>\n",
              "    <tr>\n",
              "      <th>0</th>\n",
              "      <td>40</td>\n",
              "      <td>1</td>\n",
              "      <td>0</td>\n",
              "      <td>1</td>\n",
              "      <td>0</td>\n",
              "      <td>1</td>\n",
              "      <td>0</td>\n",
              "      <td>0</td>\n",
              "      <td>0</td>\n",
              "      <td>1</td>\n",
              "      <td>0</td>\n",
              "      <td>1</td>\n",
              "      <td>0</td>\n",
              "      <td>1</td>\n",
              "      <td>1</td>\n",
              "      <td>1</td>\n",
              "      <td>1</td>\n",
              "    </tr>\n",
              "    <tr>\n",
              "      <th>1</th>\n",
              "      <td>58</td>\n",
              "      <td>1</td>\n",
              "      <td>0</td>\n",
              "      <td>0</td>\n",
              "      <td>0</td>\n",
              "      <td>1</td>\n",
              "      <td>0</td>\n",
              "      <td>0</td>\n",
              "      <td>1</td>\n",
              "      <td>0</td>\n",
              "      <td>0</td>\n",
              "      <td>0</td>\n",
              "      <td>1</td>\n",
              "      <td>0</td>\n",
              "      <td>1</td>\n",
              "      <td>0</td>\n",
              "      <td>1</td>\n",
              "    </tr>\n",
              "    <tr>\n",
              "      <th>2</th>\n",
              "      <td>41</td>\n",
              "      <td>1</td>\n",
              "      <td>1</td>\n",
              "      <td>0</td>\n",
              "      <td>0</td>\n",
              "      <td>1</td>\n",
              "      <td>1</td>\n",
              "      <td>0</td>\n",
              "      <td>0</td>\n",
              "      <td>1</td>\n",
              "      <td>0</td>\n",
              "      <td>1</td>\n",
              "      <td>0</td>\n",
              "      <td>1</td>\n",
              "      <td>1</td>\n",
              "      <td>0</td>\n",
              "      <td>1</td>\n",
              "    </tr>\n",
              "    <tr>\n",
              "      <th>3</th>\n",
              "      <td>45</td>\n",
              "      <td>1</td>\n",
              "      <td>0</td>\n",
              "      <td>0</td>\n",
              "      <td>1</td>\n",
              "      <td>1</td>\n",
              "      <td>1</td>\n",
              "      <td>1</td>\n",
              "      <td>0</td>\n",
              "      <td>1</td>\n",
              "      <td>0</td>\n",
              "      <td>1</td>\n",
              "      <td>0</td>\n",
              "      <td>0</td>\n",
              "      <td>0</td>\n",
              "      <td>0</td>\n",
              "      <td>1</td>\n",
              "    </tr>\n",
              "    <tr>\n",
              "      <th>4</th>\n",
              "      <td>60</td>\n",
              "      <td>1</td>\n",
              "      <td>1</td>\n",
              "      <td>1</td>\n",
              "      <td>1</td>\n",
              "      <td>1</td>\n",
              "      <td>1</td>\n",
              "      <td>0</td>\n",
              "      <td>1</td>\n",
              "      <td>1</td>\n",
              "      <td>1</td>\n",
              "      <td>1</td>\n",
              "      <td>1</td>\n",
              "      <td>1</td>\n",
              "      <td>1</td>\n",
              "      <td>1</td>\n",
              "      <td>1</td>\n",
              "    </tr>\n",
              "  </tbody>\n",
              "</table>\n",
              "</div>"
            ],
            "text/plain": [
              "   Age  Gender  Polyuria  ...  Alopecia  Obesity  class\n",
              "0   40       1         0  ...         1        1      1\n",
              "1   58       1         0  ...         1        0      1\n",
              "2   41       1         1  ...         1        0      1\n",
              "3   45       1         0  ...         0        0      1\n",
              "4   60       1         1  ...         1        1      1\n",
              "\n",
              "[5 rows x 17 columns]"
            ]
          },
          "metadata": {
            "tags": []
          },
          "execution_count": 26
        }
      ]
    },
    {
      "cell_type": "code",
      "metadata": {
        "id": "fhCuylzRP3Wa",
        "colab": {
          "base_uri": "https://localhost:8080/",
          "height": 255
        },
        "outputId": "04776cb6-75f9-47e0-e06f-bc16372d8bdb"
      },
      "source": [
        "diabetes.keys"
      ],
      "execution_count": null,
      "outputs": [
        {
          "output_type": "execute_result",
          "data": {
            "text/plain": [
              "<bound method NDFrame.keys of      Age  Gender  Polyuria  ...  Alopecia  Obesity  class\n",
              "0     40       1         0  ...         1        1      1\n",
              "1     58       1         0  ...         1        0      1\n",
              "2     41       1         1  ...         1        0      1\n",
              "3     45       1         0  ...         0        0      1\n",
              "4     60       1         1  ...         1        1      1\n",
              "..   ...     ...       ...  ...       ...      ...    ...\n",
              "515   39       0         1  ...         0        0      1\n",
              "516   48       0         1  ...         0        0      1\n",
              "517   58       0         1  ...         0        1      1\n",
              "518   32       0         0  ...         1        0      0\n",
              "519   42       1         0  ...         0        0      0\n",
              "\n",
              "[520 rows x 17 columns]>"
            ]
          },
          "metadata": {
            "tags": []
          },
          "execution_count": 27
        }
      ]
    },
    {
      "cell_type": "code",
      "metadata": {
        "id": "43y8IZo5Uj44",
        "colab": {
          "base_uri": "https://localhost:8080/",
          "height": 783
        },
        "outputId": "423678a5-ea76-424c-ccba-a9df0b012f98"
      },
      "source": [
        "import seaborn as sns\n",
        "diabetes_corr=diabetes.corr()\n",
        "diabetes_corr"
      ],
      "execution_count": null,
      "outputs": [
        {
          "output_type": "stream",
          "text": [
            "/usr/local/lib/python3.6/dist-packages/statsmodels/tools/_testing.py:19: FutureWarning: pandas.util.testing is deprecated. Use the functions in the public API at pandas.testing instead.\n",
            "  import pandas.util.testing as tm\n"
          ],
          "name": "stderr"
        },
        {
          "output_type": "execute_result",
          "data": {
            "text/html": [
              "<div>\n",
              "<style scoped>\n",
              "    .dataframe tbody tr th:only-of-type {\n",
              "        vertical-align: middle;\n",
              "    }\n",
              "\n",
              "    .dataframe tbody tr th {\n",
              "        vertical-align: top;\n",
              "    }\n",
              "\n",
              "    .dataframe thead th {\n",
              "        text-align: right;\n",
              "    }\n",
              "</style>\n",
              "<table border=\"1\" class=\"dataframe\">\n",
              "  <thead>\n",
              "    <tr style=\"text-align: right;\">\n",
              "      <th></th>\n",
              "      <th>Age</th>\n",
              "      <th>Gender</th>\n",
              "      <th>Polyuria</th>\n",
              "      <th>Polydipsia</th>\n",
              "      <th>sudden weight loss</th>\n",
              "      <th>weakness</th>\n",
              "      <th>Polyphagia</th>\n",
              "      <th>Genital thrush</th>\n",
              "      <th>visual blurring</th>\n",
              "      <th>Itching</th>\n",
              "      <th>Irritability</th>\n",
              "      <th>delayed healing</th>\n",
              "      <th>partial paresis</th>\n",
              "      <th>muscle stiffness</th>\n",
              "      <th>Alopecia</th>\n",
              "      <th>Obesity</th>\n",
              "      <th>class</th>\n",
              "    </tr>\n",
              "  </thead>\n",
              "  <tbody>\n",
              "    <tr>\n",
              "      <th>Age</th>\n",
              "      <td>1.000000</td>\n",
              "      <td>0.062872</td>\n",
              "      <td>0.199781</td>\n",
              "      <td>0.137382</td>\n",
              "      <td>0.064808</td>\n",
              "      <td>0.224596</td>\n",
              "      <td>0.315577</td>\n",
              "      <td>0.096519</td>\n",
              "      <td>0.402729</td>\n",
              "      <td>0.296559</td>\n",
              "      <td>0.201625</td>\n",
              "      <td>0.257501</td>\n",
              "      <td>0.232742</td>\n",
              "      <td>0.307703</td>\n",
              "      <td>0.321691</td>\n",
              "      <td>0.140458</td>\n",
              "      <td>0.108679</td>\n",
              "    </tr>\n",
              "    <tr>\n",
              "      <th>Gender</th>\n",
              "      <td>0.062872</td>\n",
              "      <td>1.000000</td>\n",
              "      <td>-0.268894</td>\n",
              "      <td>-0.312262</td>\n",
              "      <td>-0.281840</td>\n",
              "      <td>-0.124490</td>\n",
              "      <td>-0.219968</td>\n",
              "      <td>0.208961</td>\n",
              "      <td>-0.208092</td>\n",
              "      <td>-0.052496</td>\n",
              "      <td>-0.013735</td>\n",
              "      <td>-0.101978</td>\n",
              "      <td>-0.332288</td>\n",
              "      <td>-0.090542</td>\n",
              "      <td>0.327871</td>\n",
              "      <td>-0.005396</td>\n",
              "      <td>-0.449233</td>\n",
              "    </tr>\n",
              "    <tr>\n",
              "      <th>Polyuria</th>\n",
              "      <td>0.199781</td>\n",
              "      <td>-0.268894</td>\n",
              "      <td>1.000000</td>\n",
              "      <td>0.598609</td>\n",
              "      <td>0.447207</td>\n",
              "      <td>0.263000</td>\n",
              "      <td>0.373873</td>\n",
              "      <td>0.087273</td>\n",
              "      <td>0.235095</td>\n",
              "      <td>0.088289</td>\n",
              "      <td>0.237740</td>\n",
              "      <td>0.149873</td>\n",
              "      <td>0.441664</td>\n",
              "      <td>0.152938</td>\n",
              "      <td>-0.144192</td>\n",
              "      <td>0.126567</td>\n",
              "      <td>0.665922</td>\n",
              "    </tr>\n",
              "    <tr>\n",
              "      <th>Polydipsia</th>\n",
              "      <td>0.137382</td>\n",
              "      <td>-0.312262</td>\n",
              "      <td>0.598609</td>\n",
              "      <td>1.000000</td>\n",
              "      <td>0.405965</td>\n",
              "      <td>0.332453</td>\n",
              "      <td>0.316839</td>\n",
              "      <td>0.028081</td>\n",
              "      <td>0.331250</td>\n",
              "      <td>0.128716</td>\n",
              "      <td>0.203446</td>\n",
              "      <td>0.115691</td>\n",
              "      <td>0.442249</td>\n",
              "      <td>0.180723</td>\n",
              "      <td>-0.310964</td>\n",
              "      <td>0.098691</td>\n",
              "      <td>0.648734</td>\n",
              "    </tr>\n",
              "    <tr>\n",
              "      <th>sudden weight loss</th>\n",
              "      <td>0.064808</td>\n",
              "      <td>-0.281840</td>\n",
              "      <td>0.447207</td>\n",
              "      <td>0.405965</td>\n",
              "      <td>1.000000</td>\n",
              "      <td>0.282884</td>\n",
              "      <td>0.243511</td>\n",
              "      <td>0.089858</td>\n",
              "      <td>0.068754</td>\n",
              "      <td>-0.004516</td>\n",
              "      <td>0.140340</td>\n",
              "      <td>0.088140</td>\n",
              "      <td>0.264014</td>\n",
              "      <td>0.109756</td>\n",
              "      <td>-0.202727</td>\n",
              "      <td>0.169294</td>\n",
              "      <td>0.436568</td>\n",
              "    </tr>\n",
              "    <tr>\n",
              "      <th>weakness</th>\n",
              "      <td>0.224596</td>\n",
              "      <td>-0.124490</td>\n",
              "      <td>0.263000</td>\n",
              "      <td>0.332453</td>\n",
              "      <td>0.282884</td>\n",
              "      <td>1.000000</td>\n",
              "      <td>0.180266</td>\n",
              "      <td>0.027780</td>\n",
              "      <td>0.301043</td>\n",
              "      <td>0.309440</td>\n",
              "      <td>0.146698</td>\n",
              "      <td>0.335507</td>\n",
              "      <td>0.272982</td>\n",
              "      <td>0.263164</td>\n",
              "      <td>0.090490</td>\n",
              "      <td>0.045665</td>\n",
              "      <td>0.243275</td>\n",
              "    </tr>\n",
              "    <tr>\n",
              "      <th>Polyphagia</th>\n",
              "      <td>0.315577</td>\n",
              "      <td>-0.219968</td>\n",
              "      <td>0.373873</td>\n",
              "      <td>0.316839</td>\n",
              "      <td>0.243511</td>\n",
              "      <td>0.180266</td>\n",
              "      <td>1.000000</td>\n",
              "      <td>-0.063712</td>\n",
              "      <td>0.293545</td>\n",
              "      <td>0.144390</td>\n",
              "      <td>0.239466</td>\n",
              "      <td>0.263980</td>\n",
              "      <td>0.373569</td>\n",
              "      <td>0.320031</td>\n",
              "      <td>-0.053498</td>\n",
              "      <td>0.029785</td>\n",
              "      <td>0.342504</td>\n",
              "    </tr>\n",
              "    <tr>\n",
              "      <th>Genital thrush</th>\n",
              "      <td>0.096519</td>\n",
              "      <td>0.208961</td>\n",
              "      <td>0.087273</td>\n",
              "      <td>0.028081</td>\n",
              "      <td>0.089858</td>\n",
              "      <td>0.027780</td>\n",
              "      <td>-0.063712</td>\n",
              "      <td>1.000000</td>\n",
              "      <td>-0.148408</td>\n",
              "      <td>0.125336</td>\n",
              "      <td>0.160551</td>\n",
              "      <td>0.136111</td>\n",
              "      <td>-0.195612</td>\n",
              "      <td>-0.100188</td>\n",
              "      <td>0.204847</td>\n",
              "      <td>0.053828</td>\n",
              "      <td>0.110288</td>\n",
              "    </tr>\n",
              "    <tr>\n",
              "      <th>visual blurring</th>\n",
              "      <td>0.402729</td>\n",
              "      <td>-0.208092</td>\n",
              "      <td>0.235095</td>\n",
              "      <td>0.331250</td>\n",
              "      <td>0.068754</td>\n",
              "      <td>0.301043</td>\n",
              "      <td>0.293545</td>\n",
              "      <td>-0.148408</td>\n",
              "      <td>1.000000</td>\n",
              "      <td>0.291191</td>\n",
              "      <td>0.077095</td>\n",
              "      <td>0.177767</td>\n",
              "      <td>0.364156</td>\n",
              "      <td>0.412369</td>\n",
              "      <td>0.014604</td>\n",
              "      <td>0.109005</td>\n",
              "      <td>0.251300</td>\n",
              "    </tr>\n",
              "    <tr>\n",
              "      <th>Itching</th>\n",
              "      <td>0.296559</td>\n",
              "      <td>-0.052496</td>\n",
              "      <td>0.088289</td>\n",
              "      <td>0.128716</td>\n",
              "      <td>-0.004516</td>\n",
              "      <td>0.309440</td>\n",
              "      <td>0.144390</td>\n",
              "      <td>0.125336</td>\n",
              "      <td>0.291191</td>\n",
              "      <td>1.000000</td>\n",
              "      <td>0.114006</td>\n",
              "      <td>0.453316</td>\n",
              "      <td>0.116669</td>\n",
              "      <td>0.215575</td>\n",
              "      <td>0.266506</td>\n",
              "      <td>0.001894</td>\n",
              "      <td>-0.013384</td>\n",
              "    </tr>\n",
              "    <tr>\n",
              "      <th>Irritability</th>\n",
              "      <td>0.201625</td>\n",
              "      <td>-0.013735</td>\n",
              "      <td>0.237740</td>\n",
              "      <td>0.203446</td>\n",
              "      <td>0.140340</td>\n",
              "      <td>0.146698</td>\n",
              "      <td>0.239466</td>\n",
              "      <td>0.160551</td>\n",
              "      <td>0.077095</td>\n",
              "      <td>0.114006</td>\n",
              "      <td>1.000000</td>\n",
              "      <td>0.126877</td>\n",
              "      <td>0.151571</td>\n",
              "      <td>0.201637</td>\n",
              "      <td>0.043708</td>\n",
              "      <td>0.127801</td>\n",
              "      <td>0.299467</td>\n",
              "    </tr>\n",
              "    <tr>\n",
              "      <th>delayed healing</th>\n",
              "      <td>0.257501</td>\n",
              "      <td>-0.101978</td>\n",
              "      <td>0.149873</td>\n",
              "      <td>0.115691</td>\n",
              "      <td>0.088140</td>\n",
              "      <td>0.335507</td>\n",
              "      <td>0.263980</td>\n",
              "      <td>0.136111</td>\n",
              "      <td>0.177767</td>\n",
              "      <td>0.453316</td>\n",
              "      <td>0.126877</td>\n",
              "      <td>1.000000</td>\n",
              "      <td>0.187382</td>\n",
              "      <td>0.250078</td>\n",
              "      <td>0.290179</td>\n",
              "      <td>-0.066339</td>\n",
              "      <td>0.046980</td>\n",
              "    </tr>\n",
              "    <tr>\n",
              "      <th>partial paresis</th>\n",
              "      <td>0.232742</td>\n",
              "      <td>-0.332288</td>\n",
              "      <td>0.441664</td>\n",
              "      <td>0.442249</td>\n",
              "      <td>0.264014</td>\n",
              "      <td>0.272982</td>\n",
              "      <td>0.373569</td>\n",
              "      <td>-0.195612</td>\n",
              "      <td>0.364156</td>\n",
              "      <td>0.116669</td>\n",
              "      <td>0.151571</td>\n",
              "      <td>0.187382</td>\n",
              "      <td>1.000000</td>\n",
              "      <td>0.232634</td>\n",
              "      <td>-0.221576</td>\n",
              "      <td>-0.009401</td>\n",
              "      <td>0.432288</td>\n",
              "    </tr>\n",
              "    <tr>\n",
              "      <th>muscle stiffness</th>\n",
              "      <td>0.307703</td>\n",
              "      <td>-0.090542</td>\n",
              "      <td>0.152938</td>\n",
              "      <td>0.180723</td>\n",
              "      <td>0.109756</td>\n",
              "      <td>0.263164</td>\n",
              "      <td>0.320031</td>\n",
              "      <td>-0.100188</td>\n",
              "      <td>0.412369</td>\n",
              "      <td>0.215575</td>\n",
              "      <td>0.201637</td>\n",
              "      <td>0.250078</td>\n",
              "      <td>0.232634</td>\n",
              "      <td>1.000000</td>\n",
              "      <td>0.040758</td>\n",
              "      <td>0.158910</td>\n",
              "      <td>0.122474</td>\n",
              "    </tr>\n",
              "    <tr>\n",
              "      <th>Alopecia</th>\n",
              "      <td>0.321691</td>\n",
              "      <td>0.327871</td>\n",
              "      <td>-0.144192</td>\n",
              "      <td>-0.310964</td>\n",
              "      <td>-0.202727</td>\n",
              "      <td>0.090490</td>\n",
              "      <td>-0.053498</td>\n",
              "      <td>0.204847</td>\n",
              "      <td>0.014604</td>\n",
              "      <td>0.266506</td>\n",
              "      <td>0.043708</td>\n",
              "      <td>0.290179</td>\n",
              "      <td>-0.221576</td>\n",
              "      <td>0.040758</td>\n",
              "      <td>1.000000</td>\n",
              "      <td>0.029229</td>\n",
              "      <td>-0.267512</td>\n",
              "    </tr>\n",
              "    <tr>\n",
              "      <th>Obesity</th>\n",
              "      <td>0.140458</td>\n",
              "      <td>-0.005396</td>\n",
              "      <td>0.126567</td>\n",
              "      <td>0.098691</td>\n",
              "      <td>0.169294</td>\n",
              "      <td>0.045665</td>\n",
              "      <td>0.029785</td>\n",
              "      <td>0.053828</td>\n",
              "      <td>0.109005</td>\n",
              "      <td>0.001894</td>\n",
              "      <td>0.127801</td>\n",
              "      <td>-0.066339</td>\n",
              "      <td>-0.009401</td>\n",
              "      <td>0.158910</td>\n",
              "      <td>0.029229</td>\n",
              "      <td>1.000000</td>\n",
              "      <td>0.072173</td>\n",
              "    </tr>\n",
              "    <tr>\n",
              "      <th>class</th>\n",
              "      <td>0.108679</td>\n",
              "      <td>-0.449233</td>\n",
              "      <td>0.665922</td>\n",
              "      <td>0.648734</td>\n",
              "      <td>0.436568</td>\n",
              "      <td>0.243275</td>\n",
              "      <td>0.342504</td>\n",
              "      <td>0.110288</td>\n",
              "      <td>0.251300</td>\n",
              "      <td>-0.013384</td>\n",
              "      <td>0.299467</td>\n",
              "      <td>0.046980</td>\n",
              "      <td>0.432288</td>\n",
              "      <td>0.122474</td>\n",
              "      <td>-0.267512</td>\n",
              "      <td>0.072173</td>\n",
              "      <td>1.000000</td>\n",
              "    </tr>\n",
              "  </tbody>\n",
              "</table>\n",
              "</div>"
            ],
            "text/plain": [
              "                         Age    Gender  Polyuria  ...  Alopecia   Obesity     class\n",
              "Age                 1.000000  0.062872  0.199781  ...  0.321691  0.140458  0.108679\n",
              "Gender              0.062872  1.000000 -0.268894  ...  0.327871 -0.005396 -0.449233\n",
              "Polyuria            0.199781 -0.268894  1.000000  ... -0.144192  0.126567  0.665922\n",
              "Polydipsia          0.137382 -0.312262  0.598609  ... -0.310964  0.098691  0.648734\n",
              "sudden weight loss  0.064808 -0.281840  0.447207  ... -0.202727  0.169294  0.436568\n",
              "weakness            0.224596 -0.124490  0.263000  ...  0.090490  0.045665  0.243275\n",
              "Polyphagia          0.315577 -0.219968  0.373873  ... -0.053498  0.029785  0.342504\n",
              "Genital thrush      0.096519  0.208961  0.087273  ...  0.204847  0.053828  0.110288\n",
              "visual blurring     0.402729 -0.208092  0.235095  ...  0.014604  0.109005  0.251300\n",
              "Itching             0.296559 -0.052496  0.088289  ...  0.266506  0.001894 -0.013384\n",
              "Irritability        0.201625 -0.013735  0.237740  ...  0.043708  0.127801  0.299467\n",
              "delayed healing     0.257501 -0.101978  0.149873  ...  0.290179 -0.066339  0.046980\n",
              "partial paresis     0.232742 -0.332288  0.441664  ... -0.221576 -0.009401  0.432288\n",
              "muscle stiffness    0.307703 -0.090542  0.152938  ...  0.040758  0.158910  0.122474\n",
              "Alopecia            0.321691  0.327871 -0.144192  ...  1.000000  0.029229 -0.267512\n",
              "Obesity             0.140458 -0.005396  0.126567  ...  0.029229  1.000000  0.072173\n",
              "class               0.108679 -0.449233  0.665922  ... -0.267512  0.072173  1.000000\n",
              "\n",
              "[17 rows x 17 columns]"
            ]
          },
          "metadata": {
            "tags": []
          },
          "execution_count": 28
        }
      ]
    },
    {
      "cell_type": "code",
      "metadata": {
        "id": "yrXnF3gdVwE9",
        "colab": {
          "base_uri": "https://localhost:8080/",
          "height": 373
        },
        "outputId": "a7a5c216-ce4a-41f7-c810-a294036f8a6f"
      },
      "source": [
        "sns.heatmap(diabetes_corr, cmap='YlGnBu')"
      ],
      "execution_count": null,
      "outputs": [
        {
          "output_type": "execute_result",
          "data": {
            "text/plain": [
              "<matplotlib.axes._subplots.AxesSubplot at 0x7f2f51a0d780>"
            ]
          },
          "metadata": {
            "tags": []
          },
          "execution_count": 29
        },
        {
          "output_type": "display_data",
          "data": {
            "image/png": "[encoded data removed]",
            "text/plain": [
              "<Figure size 432x288 with 2 Axes>"
            ]
          },
          "metadata": {
            "tags": [],
            "needs_background": "light"
          }
        }
      ]
    },
    {
      "cell_type": "code",
      "metadata": {
        "id": "lyLjiUyyf9Ah"
      },
      "source": [
        "from sklearn.model_selection import train_test_split\n",
        "x = diabetes[[\"Gender\",\"Polyuria\",\"Polydipsia\",\"sudden weight loss\",\"weakness\",\"Polyphagia\",\"Genital thrush\",\"visual blurring\",\"Itching\",\"Irritability\",\"delayed healing\",\"partial paresis\",\"muscle stiffness\",\"Alopecia\",\"Obesity\"]]\n",
        "y = diabetes[\"class\"]"
      ],
      "execution_count": null,
      "outputs": []
    },
    {
      "cell_type": "code",
      "metadata": {
        "id": "vd5kb-qmgIYm",
        "colab": {
          "base_uri": "https://localhost:8080/",
          "height": 51
        },
        "outputId": "b57c8cd9-4d90-4c36-c5e4-46fd5d74a9fc"
      },
      "source": [
        "x_train,x_test,y_train,y_test= train_test_split(x,y,test_size = 0.25, random_state=0, stratify = y)\n",
        "print(\"X_train shape:\", x_train.shape)\n",
        "print(\"y_train shape:\", y_train.shape)"
      ],
      "execution_count": null,
      "outputs": [
        {
          "output_type": "stream",
          "text": [
            "X_train shape: (390, 15)\n",
            "y_train shape: (390,)\n"
          ],
          "name": "stdout"
        }
      ]
    },
    {
      "cell_type": "code",
      "metadata": {
        "id": "LRv60KGRgaXL",
        "colab": {
          "base_uri": "https://localhost:8080/",
          "height": 51
        },
        "outputId": "31a52aa1-36ba-4ab2-e193-476155217d2f"
      },
      "source": [
        "print(\"X_test shape:\", x_test.shape)\n",
        "print(\"y_test shape:\", y_test.shape)"
      ],
      "execution_count": null,
      "outputs": [
        {
          "output_type": "stream",
          "text": [
            "X_test shape: (130, 15)\n",
            "y_test shape: (130,)\n"
          ],
          "name": "stdout"
        }
      ]
    },
    {
      "cell_type": "code",
      "metadata": {
        "id": "A-ylBt9CggVO",
        "colab": {
          "base_uri": "https://localhost:8080/",
          "height": 68
        },
        "outputId": "061ec3a5-1b46-415f-b8ee-4df28df0d5e7"
      },
      "source": [
        "from sklearn.neighbors import KNeighborsClassifier\n",
        "knn = KNeighborsClassifier(n_neighbors=1)\n",
        "knn.fit(x_train, y_train)"
      ],
      "execution_count": null,
      "outputs": [
        {
          "output_type": "execute_result",
          "data": {
            "text/plain": [
              "KNeighborsClassifier(algorithm='auto', leaf_size=30, metric='minkowski',\n",
              "                     metric_params=None, n_jobs=None, n_neighbors=1, p=2,\n",
              "                     weights='uniform')"
            ]
          },
          "metadata": {
            "tags": []
          },
          "execution_count": 33
        }
      ]
    },
    {
      "cell_type": "code",
      "metadata": {
        "id": "vN9zO_2ngnBn",
        "colab": {
          "base_uri": "https://localhost:8080/",
          "height": 102
        },
        "outputId": "dcde81aa-8ff7-4940-eab5-b2125ea32ade"
      },
      "source": [
        "y_pred = knn.predict(x_test)\n",
        "print(\"Test set predictions:\\n\", y_pred)"
      ],
      "execution_count": null,
      "outputs": [
        {
          "output_type": "stream",
          "text": [
            "Test set predictions:\n",
            " [1 1 1 1 1 1 0 0 0 1 1 1 0 1 0 1 0 0 1 0 1 1 1 1 1 0 0 0 1 1 1 1 0 0 1 0 1\n",
            " 0 1 1 0 1 1 0 1 0 1 0 0 1 1 1 1 1 1 1 1 1 1 1 1 1 1 1 1 1 1 0 1 1 0 1 1 1\n",
            " 0 0 1 0 0 1 1 0 0 0 1 0 1 1 1 1 1 0 1 0 0 0 0 1 0 1 0 0 1 0 1 1 1 0 1 0 0\n",
            " 1 1 0 1 0 1 1 1 0 1 1 1 1 1 1 0 1 0 0]\n"
          ],
          "name": "stdout"
        }
      ]
    },
    {
      "cell_type": "code",
      "metadata": {
        "id": "b_tV2Au4hK4B",
        "colab": {
          "base_uri": "https://localhost:8080/",
          "height": 34
        },
        "outputId": "62edd931-ec52-4862-ba46-be118b62e680"
      },
      "source": [
        "print(\"Test set score: {:.2f}\".format(np.mean(y_pred == y_test)))"
      ],
      "execution_count": null,
      "outputs": [
        {
          "output_type": "stream",
          "text": [
            "Test set score: 0.97\n"
          ],
          "name": "stdout"
        }
      ]
    },
    {
      "cell_type": "code",
      "metadata": {
        "id": "goh5bNP4hTRu",
        "colab": {
          "base_uri": "https://localhost:8080/",
          "height": 34
        },
        "outputId": "50fa57c9-9668-4a91-9dad-f5723891d9b1"
      },
      "source": [
        "print(\"Test set score: {:.2f}\".format(knn.score(x_test, y_test)))"
      ],
      "execution_count": null,
      "outputs": [
        {
          "output_type": "stream",
          "text": [
            "Test set score: 0.97\n"
          ],
          "name": "stdout"
        }
      ]
    },
    {
      "cell_type": "code",
      "metadata": {
        "id": "GIO6zROrq-FQ",
        "colab": {
          "base_uri": "https://localhost:8080/",
          "height": 1000
        },
        "outputId": "c34a254c-d181-46d0-ac3b-53145060a08d"
      },
      "source": [
        "\n",
        "plot=pd.plotting.scatter_matrix(diabetes[['Gender','Polyuria','Polydipsia','sudden weight loss','weakness','Polyphagia','Genital thrush','visual blurring','Itching','Irritability','delayed healing','partial paresis','muscle stiffness','Alopecia','Obesity']], figsize=(20,20))"
      ],
      "execution_count": null,
      "outputs": [
        {
          "output_type": "display_data",
          "data": {
            "image/png": "[encoded data removed]",
            "text/plain": [
              "<Figure size 1440x1440 with 225 Axes>"
            ]
          },
          "metadata": {
            "tags": [],
            "needs_background": "light"
          }
        }
      ]
    },
    {
      "cell_type": "code",
      "metadata": {
        "id": "6F1Y2HeCtUJ0",
        "colab": {
          "base_uri": "https://localhost:8080/",
          "height": 584
        },
        "outputId": "0c3482f2-cdfa-420a-8211-221329ebf3fc"
      },
      "source": [
        "sns.pairplot(diabetes[['Age','Gender','class']])"
      ],
      "execution_count": null,
      "outputs": [
        {
          "output_type": "execute_result",
          "data": {
            "text/plain": [
              "<seaborn.axisgrid.PairGrid at 0x7f2f4b796550>"
            ]
          },
          "metadata": {
            "tags": []
          },
          "execution_count": 38
        },
        {
          "output_type": "display_data",
          "data": {
            "image/png": "[encoded data removed]",
            "text/plain": [
              "<Figure size 540x540 with 12 Axes>"
            ]
          },
          "metadata": {
            "tags": [],
            "needs_background": "light"
          }
        }
      ]
    },
    {
      "cell_type": "code",
      "metadata": {
        "id": "mtutkLDOvWpR",
        "colab": {
          "base_uri": "https://localhost:8080/",
          "height": 312
        },
        "outputId": "34aabadb-d522-4e8b-b8ed-4124f88468b1"
      },
      "source": [
        "import matplotlib.pyplot as plt\n",
        "\n",
        "fig,ax = plt.subplots()\n",
        "ax.hist(y_train)\n",
        "ax.set_title('frequency of  classes')\n",
        "ax.set_xlabel('positive or negative')\n",
        "ax.set_ylabel('people')"
      ],
      "execution_count": null,
      "outputs": [
        {
          "output_type": "execute_result",
          "data": {
            "text/plain": [
              "Text(0, 0.5, 'people')"
            ]
          },
          "metadata": {
            "tags": []
          },
          "execution_count": 39
        },
        {
          "output_type": "display_data",
          "data": {
            "image/png": "[encoded data removed]",
            "text/plain": [
              "<Figure size 432x288 with 1 Axes>"
            ]
          },
          "metadata": {
            "tags": [],
            "needs_background": "light"
          }
        }
      ]
    },
    {
      "cell_type": "code",
      "metadata": {
        "id": "8tPwyLJo6qHz",
        "colab": {
          "base_uri": "https://localhost:8080/",
          "height": 34
        },
        "outputId": "38538645-d967-467d-acfb-db107570b556"
      },
      "source": [
        "diabetes=diabetes.drop(['Gender'],axis=1)\n",
        "x1 = diabetes[[\"Polyuria\",\"Polydipsia\",\"sudden weight loss\",\"weakness\",\"Polyphagia\",\"Genital thrush\",\"visual blurring\",\"Itching\",\"Irritability\",\"delayed healing\",\"partial paresis\",\"muscle stiffness\",\"Alopecia\",\"Obesity\"]]\n",
        "y1 = diabetes[\"class\"]\n",
        "x_train,x_test,y_train,y_test= train_test_split(x1,y1,test_size = 0.25, random_state=0, stratify = y1)\n",
        "knn = KNeighborsClassifier(n_neighbors=1)\n",
        "knn.fit(x_train, y_train)\n",
        "y_pred = knn.predict(x_test)\n",
        "print(\"Test set score: {:.2f}\".format(knn.score(x_test, y_test)))\n"
      ],
      "execution_count": null,
      "outputs": [
        {
          "output_type": "stream",
          "text": [
            "Test set score: 0.99\n"
          ],
          "name": "stdout"
        }
      ]
    }
  ]
}